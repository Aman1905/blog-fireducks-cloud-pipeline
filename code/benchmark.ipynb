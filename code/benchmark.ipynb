{
 "cells": [
  {
   "cell_type": "code",
   "execution_count": null,
   "metadata": {},
   "outputs": [
    {
     "name": "stdout",
     "output_type": "stream",
     "text": [
      "Requirement already satisfied: boto3 in /Users/amanchopra/.pyenv/versions/3.9.2/lib/python3.9/site-packages (1.37.18)\n",
      "Requirement already satisfied: memory_profiler in /Users/amanchopra/.pyenv/versions/3.9.2/lib/python3.9/site-packages (0.61.0)\n",
      "Requirement already satisfied: matplotlib in /Users/amanchopra/.pyenv/versions/3.9.2/lib/python3.9/site-packages (3.9.4)\n",
      "Requirement already satisfied: seaborn in /Users/amanchopra/.pyenv/versions/3.9.2/lib/python3.9/site-packages (0.13.2)\n",
      "Requirement already satisfied: pandas in /Users/amanchopra/.pyenv/versions/3.9.2/lib/python3.9/site-packages (2.2.3)\n",
      "Requirement already satisfied: botocore<1.38.0,>=1.37.18 in /Users/amanchopra/.pyenv/versions/3.9.2/lib/python3.9/site-packages (from boto3) (1.37.18)\n",
      "Requirement already satisfied: jmespath<2.0.0,>=0.7.1 in /Users/amanchopra/.pyenv/versions/3.9.2/lib/python3.9/site-packages (from boto3) (1.0.1)\n",
      "Requirement already satisfied: s3transfer<0.12.0,>=0.11.0 in /Users/amanchopra/.pyenv/versions/3.9.2/lib/python3.9/site-packages (from boto3) (0.11.4)\n",
      "Requirement already satisfied: psutil in /Users/amanchopra/.pyenv/versions/3.9.2/lib/python3.9/site-packages (from memory_profiler) (7.0.0)\n",
      "Requirement already satisfied: contourpy>=1.0.1 in /Users/amanchopra/.pyenv/versions/3.9.2/lib/python3.9/site-packages (from matplotlib) (1.3.0)\n",
      "Requirement already satisfied: cycler>=0.10 in /Users/amanchopra/.pyenv/versions/3.9.2/lib/python3.9/site-packages (from matplotlib) (0.12.1)\n",
      "Requirement already satisfied: fonttools>=4.22.0 in /Users/amanchopra/.pyenv/versions/3.9.2/lib/python3.9/site-packages (from matplotlib) (4.56.0)\n",
      "Requirement already satisfied: kiwisolver>=1.3.1 in /Users/amanchopra/.pyenv/versions/3.9.2/lib/python3.9/site-packages (from matplotlib) (1.4.7)\n",
      "Requirement already satisfied: numpy>=1.23 in /Users/amanchopra/.pyenv/versions/3.9.2/lib/python3.9/site-packages (from matplotlib) (2.0.2)\n",
      "Requirement already satisfied: packaging>=20.0 in /Users/amanchopra/.pyenv/versions/3.9.2/lib/python3.9/site-packages (from matplotlib) (24.2)\n",
      "Requirement already satisfied: pillow>=8 in /Users/amanchopra/.pyenv/versions/3.9.2/lib/python3.9/site-packages (from matplotlib) (11.1.0)\n",
      "Requirement already satisfied: pyparsing>=2.3.1 in /Users/amanchopra/.pyenv/versions/3.9.2/lib/python3.9/site-packages (from matplotlib) (3.2.1)\n",
      "Requirement already satisfied: python-dateutil>=2.7 in /Users/amanchopra/.pyenv/versions/3.9.2/lib/python3.9/site-packages (from matplotlib) (2.9.0.post0)\n",
      "Requirement already satisfied: importlib-resources>=3.2.0 in /Users/amanchopra/.pyenv/versions/3.9.2/lib/python3.9/site-packages (from matplotlib) (5.0.7)\n",
      "Requirement already satisfied: pytz>=2020.1 in /Users/amanchopra/.pyenv/versions/3.9.2/lib/python3.9/site-packages (from pandas) (2025.1)\n",
      "Requirement already satisfied: tzdata>=2022.7 in /Users/amanchopra/.pyenv/versions/3.9.2/lib/python3.9/site-packages (from pandas) (2025.1)\n",
      "Requirement already satisfied: urllib3<1.27,>=1.25.4 in /Users/amanchopra/.pyenv/versions/3.9.2/lib/python3.9/site-packages (from botocore<1.38.0,>=1.37.18->boto3) (1.26.20)\n",
      "Requirement already satisfied: six>=1.5 in /Users/amanchopra/.pyenv/versions/3.9.2/lib/python3.9/site-packages (from python-dateutil>=2.7->matplotlib) (1.17.0)\n",
      "Note: you may need to restart the kernel to use updated packages.\n"
     ]
    }
   ],
   "source": [
    "%pip install fireducks boto3 memory_profiler matplotlib seaborn pandas"
   ]
  },
  {
   "cell_type": "code",
   "execution_count": null,
   "metadata": {},
   "outputs": [
    {
     "name": "stdout",
     "output_type": "stream",
     "text": [
      "Dataset generated and saved to sample-dataset.csv\n"
     ]
    }
   ],
   "source": [
    "# generating dataset\n",
    "\n",
    "import pandas as pds\n",
    "import numpy as np\n",
    "from datetime import datetime, timedelta\n",
    "\n",
    "# Generate synthetic transaction data\n",
    "np.random.seed(42)\n",
    "num_records = 1000000  # 1 million records\n",
    "user_ids = np.random.randint(1, 10000, size=num_records)\n",
    "transaction_amounts = np.random.uniform(10, 5000, size=num_records)\n",
    "timestamps = [datetime.now() - timedelta(days=np.random.randint(0, 365)) for _ in range(num_records)]\n",
    "locations = np.random.choice([\"New York\", \"London\", \"Tokyo\", \"Paris\", \"Berlin\"], size=num_records)\n",
    "\n",
    "# Create DataFrame\n",
    "data = {\n",
    "    \"Transaction_ID\": np.arange(1, num_records + 1),\n",
    "    \"User_ID\": user_ids,\n",
    "    \"Transaction_Amount\": transaction_amounts,\n",
    "    \"Timestamp\": timestamps,\n",
    "    \"Location\": locations\n",
    "}\n",
    "df = pd.DataFrame(data)\n",
    "\n",
    "# Save to CSV\n",
    "df.to_csv(\"../data/sample-dataset.csv\", index=False)\n",
    "print(\"Dataset generated and saved to sample-dataset.csv\")"
   ]
  },
  {
   "cell_type": "code",
   "execution_count": null,
   "metadata": {},
   "outputs": [],
   "source": [
    "# preprocessing the dataset\n",
    "\n",
    "import time\n",
    "from memory_profiler import memory_usage\n",
    "import pandas as pd\n",
    "import fireducks.pandas as fd\n",
    "\n",
    "# Measure pandas load time\n",
    "start_time = time.time()\n",
    "df_pandas = pd.read_csv(\"../data/sample-dataset.csv\")\n",
    "pandas_load_time = time.time() - start_time\n",
    "\n",
    "# Measure FireDucks load time\n",
    "start_time = time.time()\n",
    "df_fireducks = fd.read_csv(\"../data/sample-dataset.csv\")\n",
    "fireducks_load_time = time.time() - start_time\n",
    "\n",
    "# Measure memory usage\n",
    "pandas_memory = memory_usage((pd.read_csv, [\"../data/sample-dataset.csv\"]), max_usage=True)\n",
    "fireducks_memory = memory_usage((fd.read_csv, [\"../data/sample-dataset.csv\"]), max_usage=True)\n",
    "\n",
    "# Print results\n",
    "print(f\"Pandas Load Time: {pandas_load_time:.2f} sec\")\n",
    "print(f\"FireDucks Load Time: {fireducks_load_time:.2f} sec\")\n",
    "print(f\"Pandas Memory Usage: {pandas_memory:.2f} MB\")\n",
    "print(f\"FireDucks Memory Usage: {fireducks_memory:.2f} MB\")"
   ]
  },
  {
   "cell_type": "code",
   "execution_count": null,
   "metadata": {},
   "outputs": [],
   "source": [
    "# visualizing the result difference\n",
    "\n",
    "import matplotlib.pyplot as plt\n",
    "import seaborn as sns\n",
    "from matplotlib.animation import FuncAnimation\n",
    "\n",
    "# Data for visualization\n",
    "tools = [\"Pandas\", \"FireDucks\"]\n",
    "times = [pandas_load_time, fireducks_load_time]\n",
    "\n",
    "# Create a bar chart\n",
    "fig, ax = plt.subplots()\n",
    "bar = ax.bar(tools, times, color=[\"blue\", \"green\"])\n",
    "ax.set_ylabel(\"Load Time (sec)\")\n",
    "ax.set_title(\"Performance Comparison\")\n",
    "\n",
    "# Animation function\n",
    "def animate(i):\n",
    "    for rect, h in zip(bar, times[:i+1]):\n",
    "        rect.set_height(h)\n",
    "    return bar\n",
    "\n",
    "ani = FuncAnimation(fig, animate, frames=len(times), interval=1000, repeat=False)\n",
    "plt.show()\n",
    "\n",
    "# Save as GIF\n",
    "ani.save(\"../performance_comparison.gif\", writer=\"imagemagick\")"
   ]
  }
 ],
 "metadata": {
  "kernelspec": {
   "display_name": "Python 3",
   "language": "python",
   "name": "python3"
  },
  "language_info": {
   "codemirror_mode": {
    "name": "ipython",
    "version": 3
   },
   "file_extension": ".py",
   "mimetype": "text/x-python",
   "name": "python",
   "nbconvert_exporter": "python",
   "pygments_lexer": "ipython3",
   "version": "3.9.2"
  }
 },
 "nbformat": 4,
 "nbformat_minor": 2
}
